{
 "cells": [
  {
   "cell_type": "code",
   "execution_count": 7,
   "metadata": {},
   "outputs": [],
   "source": [
    "from joblib import load\n",
    "\n",
    "\n",
    "model = load('diabetes_model.joblib')"
   ]
  },
  {
   "cell_type": "code",
   "execution_count": 8,
   "metadata": {},
   "outputs": [
    {
     "name": "stdout",
     "output_type": "stream",
     "text": [
      "You entered the following values:\n",
      "[4, 85, 66, 29, 0, 26.5, 0.35, 31]\n"
     ]
    }
   ],
   "source": [
    "def get_integer_input(prompt):\n",
    "    while True:\n",
    "        try:\n",
    "            value = int(input(prompt))\n",
    "            return value\n",
    "        except ValueError:\n",
    "            print(\"You gave a wrong number! Please enter a valid integer.\")\n",
    "\n",
    "def get_float_input(prompt):\n",
    "    while True:\n",
    "        try:\n",
    "            value = float(input(prompt))\n",
    "            return value\n",
    "        except ValueError:\n",
    "            print(\"You gave a wrong number! Please enter a valid number.\")\n",
    "\n",
    "User_inputs = []\n",
    "\n",
    "# Collect inputs and append them to the list\n",
    "User_inputs.append(get_integer_input(\"Please enter the number of pregnancies: \"))  # npregnancies\n",
    "User_inputs.append(get_integer_input(\"Please enter the amount of Glucose: \"))       # nGlucose\n",
    "User_inputs.append(get_integer_input(\"Please enter the Bloodpressure: \"))           # nBloodpressure\n",
    "User_inputs.append(get_integer_input(\"Please enter the SkinThickness: \"))          # nSkinThickness\n",
    "User_inputs.append(get_integer_input(\"Please enter the amount of Insulin: \"))      # nInsulin\n",
    "User_inputs.append(get_float_input(\"Please enter the BMI: \"))                      # nBMI\n",
    "User_inputs.append(get_float_input(\"Please enter the DiabetesPedigreeFunction: \")) # nDiabetesPedigreeFunction\n",
    "User_inputs.append(get_integer_input(\"Please enter the Age: \"))                    # nAge\n",
    "\n",
    "# Print the entered values\n",
    "print(\"You entered the following values:\")\n",
    "print(User_inputs)\n"
   ]
  },
  {
   "cell_type": "code",
   "execution_count": 10,
   "metadata": {},
   "outputs": [
    {
     "name": "stdout",
     "output_type": "stream",
     "text": [
      "Predicted probabilities for each class:\n",
      "Class 0: 0.8409\n",
      "Class 1: 0.1591\n",
      "Predicted class (1 for positive, 0 for negative): 0\n"
     ]
    }
   ],
   "source": [
    "import numpy as np\n",
    "import pandas as pd\n",
    "\n",
    "input_data = np.array(User_inputs).reshape(1, -1)  # Reshape for a single sample\n",
    "\n",
    "feature_names = [\n",
    "    'Pregnancies',\n",
    "    'Glucose',\n",
    "    'BloodPressure',\n",
    "    'SkinThickness',\n",
    "    'Insulin',\n",
    "    'BMI',\n",
    "    'DiabetesPedigreeFunction',\n",
    "    'Age'\n",
    "]\n",
    "\n",
    "# Create a DataFrame for the input data\n",
    "input_data = pd.DataFrame([User_inputs], columns=feature_names)\n",
    "\n",
    "# Step 4: Get predicted probabilities\n",
    "probabilities = model.predict_proba(input_data)\n",
    "\n",
    "# Print the predicted probabilities\n",
    "print(\"Predicted probabilities for each class:\")\n",
    "for i, prob in enumerate(probabilities[0]):\n",
    "    print(f\"Class {i}: {prob:.4f}\")  # Format to 4 decimal places\n",
    "\n",
    "# Optionally, you can also get the predicted class\n",
    "predicted_class = model.predict(input_data)\n",
    "print(\"Predicted class (1 for positive, 0 for negative):\", predicted_class[0])"
   ]
  }
 ],
 "metadata": {
  "kernelspec": {
   "display_name": "coding",
   "language": "python",
   "name": "python3"
  },
  "language_info": {
   "codemirror_mode": {
    "name": "ipython",
    "version": 3
   },
   "file_extension": ".py",
   "mimetype": "text/x-python",
   "name": "python",
   "nbconvert_exporter": "python",
   "pygments_lexer": "ipython3",
   "version": "3.12.7"
  }
 },
 "nbformat": 4,
 "nbformat_minor": 2
}
